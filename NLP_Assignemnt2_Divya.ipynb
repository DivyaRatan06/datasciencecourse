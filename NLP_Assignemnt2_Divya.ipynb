{
 "cells": [
  {
   "cell_type": "markdown",
   "metadata": {},
   "source": [
    "\n",
    "**Question 1.** Write a python program using Textblob in which find out the parts-of-speech(pos) tagging from the following sentence.\n",
    "\n",
    "\"Susie works in a shoeshine shop. Where she shines she sits, and where she sits she shines\""
   ]
  },
  {
   "cell_type": "code",
   "execution_count": 1,
   "metadata": {},
   "outputs": [],
   "source": [
    "from textblob import TextBlob"
   ]
  },
  {
   "cell_type": "code",
   "execution_count": 4,
   "metadata": {
    "scrolled": true
   },
   "outputs": [
    {
     "name": "stdout",
     "output_type": "stream",
     "text": [
      "[('Susie', 'NNP'), ('works', 'VBZ'), ('in', 'IN'), ('a', 'DT'), ('shoeshine', 'NN'), ('shop', 'NN'), ('Where', 'WRB'), ('she', 'PRP'), ('shines', 'VBZ'), ('she', 'PRP'), ('sits', 'VBZ'), ('and', 'CC'), ('where', 'WRB'), ('she', 'PRP'), ('sits', 'VBZ'), ('she', 'PRP'), ('shines', 'NNS')]\n"
     ]
    }
   ],
   "source": [
    "data = \"Susie works in a shoeshine shop. Where she shines she sits, and where she sits she shines\"\n",
    "text = TextBlob(data)\n",
    "print(text.tags)"
   ]
  },
  {
   "cell_type": "markdown",
   "metadata": {},
   "source": [
    "**Question 2.** Write a python program using the textblob to find out the count of the common words from the following sentence.\n",
    "\n",
    "\"How much wood would a woodchuck chuck if a woodchuck could chuck wood?\n",
    "He would chuck, he would, as much as he could, and chuck as much wood\n",
    "As a woodchuck would if a woodchuck could chuck wood\"\n",
    "Find it out how many times 'wood' came in the sentence."
   ]
  },
  {
   "cell_type": "code",
   "execution_count": 11,
   "metadata": {},
   "outputs": [
    {
     "name": "stdout",
     "output_type": "stream",
     "text": [
      "4\n"
     ]
    }
   ],
   "source": [
    "data = '''How much wood would a woodchuck chuck if a woodchuck could chuck wood? \n",
    "He would chuck, he would, as much as he could, \n",
    "and chuck as much wood As a woodchuck would if a woodchuck could chuck wood'''\n",
    "text = TextBlob(data)\n",
    "print(text.word_counts['wood'])"
   ]
  },
  {
   "cell_type": "markdown",
   "metadata": {},
   "source": [
    "**Question 3.** Translate the following sentences in your own language using the textblob.\n",
    "\n",
    "\"Data is a new oil.\", \"A.I is the last invention\", \"She sells seashells by the seashore\", \"He threw three free throws\"."
   ]
  },
  {
   "cell_type": "code",
   "execution_count": 20,
   "metadata": {
    "scrolled": true
   },
   "outputs": [
    {
     "data": {
      "text/plain": [
       "[TextBlob(\"डेटा एक नया तेल है।\"),\n",
       " TextBlob(\"A.I अंतिम आविष्कार है\"),\n",
       " TextBlob(\"वह समुंद्र के किनारे शँख बेचती है\"),\n",
       " TextBlob(\"उसने तीन मुफ्त फेंके\")]"
      ]
     },
     "execution_count": 20,
     "metadata": {},
     "output_type": "execute_result"
    }
   ],
   "source": [
    "data = [\"Data is a new oil.\", \"A.I is the last invention\", \"She sells seashells by the seashore\", \"He threw three free throws\"]\n",
    "[  TextBlob(blob).translate(to='hi') for blob in data ]"
   ]
  },
  {
   "cell_type": "markdown",
   "metadata": {},
   "source": [
    "# **Question 4.** Create a spell checker program using the textblob library with using your own sentences."
   ]
  },
  {
   "cell_type": "code",
   "execution_count": 50,
   "metadata": {},
   "outputs": [
    {
     "name": "stdout",
     "output_type": "stream",
     "text": [
      "Data is a nw oi.\n",
      "[[('Data', 0.7391304347826086), ('Lata', 0.17391304347826086), ('Hata', 0.08695652173913043)], [('is', 1.0)], [('a', 1.0)], [('no', 0.4336904322127817), ('now', 0.3134466198743997), ('new', 0.2236793498337643), ('w', 0.012929442186922793), ('n', 0.011451791651274473), ('ne', 0.002216475803472479), ('nd', 0.0011082379017362395), ('na', 0.0005541189508681197), ('ni', 0.0003694126339120798), ('ny', 0.0001847063169560399), ('nm', 0.0001847063169560399), ('nl', 0.0001847063169560399)], [('oil', 1.0)]]\n",
      " \n",
      "A.I is the last invtn\n",
      "[[('A.I', 0.0)], [('is', 1.0)], [('the', 1.0)], [('last', 1.0)], [('into', 0.9738651994497937), ('inn', 0.01192113709307657), ('invent', 0.004585052728106373), ('ivan', 0.0041265474552957355), ('invite', 0.0041265474552957355), ('inst', 0.0009170105456212746), ('inman', 0.0004585052728106373)]]\n",
      " \n",
      "She sells seashlls by the seasore\n",
      "[[('The', 0.8303848428566982), ('He', 0.1286717785363728), ('She', 0.04094337860692904)], [('cells', 0.5284552845528455), ('bells', 0.15447154471544716), ('sell', 0.12195121951219512), ('tells', 0.08130081300813008), ('shells', 0.04065040650406504), ('wells', 0.02032520325203252), ('yells', 0.016260162601626018), ('swells', 0.012195121951219513), ('seals', 0.012195121951219513), ('spells', 0.0040650406504065045), ('smells', 0.0040650406504065045), ('selle', 0.0040650406504065045)], [('seashlls', 0.0)], [('by', 1.0)], [('the', 1.0)], [('seashore', 1.0)]]\n",
      " \n",
      "He threw thre free thraws\n",
      "[[('He', 0.5339045076850217), ('Be', 0.26499332673182074), ('Me', 0.08266241873681492), ('We', 0.08205967193352563), ('De', 0.01020364231282559), ('Re', 0.008137081844405218), ('Ve', 0.006587161493089938), ('E', 0.005855254660524389), ('Le', 0.0023679338700650105), ('Je', 0.0007319068325655487), ('Ne', 0.0005166401171050932), ('Ce', 0.0004735867740130021), ('Ze', 0.0003874800878288199), ('Ye', 0.00034442674473672883), ('Fe', 0.00034442674473672883), ('Se', 0.0001291600292762733), ('Pe', 8.610668618418221e-05), ('Oe', 8.610668618418221e-05), ('Ke', 8.610668618418221e-05), ('Te', 4.3053343092091103e-05)], [('threw', 1.0)], [('the', 0.9558103427684224), ('there', 0.0354950435924997), ('three', 0.006974799952227398), ('threw', 0.0011465424579003942), ('thee', 0.00031052191568135677), ('tore', 0.0002149767108563239), ('tire', 3.582945180938732e-05), ('tyre', 1.1943150603129105e-05)], [('free', 1.0)], [('throws', 1.0)]]\n",
      " \n"
     ]
    }
   ],
   "source": [
    "data = [\"Data is a nw oi.\", \"A.I is the last invtn\", \"She sells seashlls by the seasore\", \"He threw thre free thraws\"]\n",
    "from textblob import Word\n",
    "for sentences in data:\n",
    "    print(sentences)\n",
    "    a=[(Word(words)).spellcheck() for words in sentences.split(\" \")]\n",
    "    print(a)\n",
    "    print(\" \")\n"
   ]
  }
 ],
 "metadata": {
  "kernelspec": {
   "display_name": "Python 3",
   "language": "python",
   "name": "python3"
  },
  "language_info": {
   "codemirror_mode": {
    "name": "ipython",
    "version": 3
   },
   "file_extension": ".py",
   "mimetype": "text/x-python",
   "name": "python",
   "nbconvert_exporter": "python",
   "pygments_lexer": "ipython3",
   "version": "3.8.5"
  }
 },
 "nbformat": 4,
 "nbformat_minor": 4
}
