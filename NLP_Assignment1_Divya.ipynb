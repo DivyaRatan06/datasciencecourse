{
 "cells": [
  {
   "cell_type": "markdown",
   "metadata": {},
   "source": [
    "**Question 1.** Write a python program to find out the words after '@' from the below sentences with the use of regex.\n",
    "\n",
    "\"xyz@gmail.com\",\n",
    "\"abc@yahoo.com\",\n",
    "\"xyz@hotmail.com\",\n",
    "\"abc@ineuron.ai\",\n",
    "\"xyz@outlook.com\""
   ]
  },
  {
   "cell_type": "code",
   "execution_count": 1,
   "metadata": {},
   "outputs": [
    {
     "name": "stdout",
     "output_type": "stream",
     "text": [
      "gmail.com\n",
      "yahoo.com\n",
      "hotmail.com\n",
      "ineuron.ai\n",
      "outlook.com\n"
     ]
    }
   ],
   "source": [
    "import re\n",
    "sentences= [\"xyz@gmail.com\",\"abc@yahoo.com\",\"xyz@hotmail.com\",\"abc@ineuron.ai\",\"xyz@outlook.com\"]\n",
    "for sentence in sentences:\n",
    "    m = re.search(\".*@\",sentence)\n",
    "    str1= \"\"\n",
    "    for i in range(m.span()[1],len(sentence)):\n",
    "        str1+=(sentence[i])\n",
    "    print(str1)  "
   ]
  },
  {
   "cell_type": "markdown",
   "metadata": {},
   "source": [
    "**Question 2.** Write a python program with the use of regex to take out the word \"New\" from the following sentence\n",
    "[\"New Delhi is the capital of India\"]\n",
    "\n",
    "  \n"
   ]
  },
  {
   "cell_type": "code",
   "execution_count": 2,
   "metadata": {
    "scrolled": true
   },
   "outputs": [
    {
     "data": {
      "text/plain": [
       "'New'"
      ]
     },
     "execution_count": 2,
     "metadata": {},
     "output_type": "execute_result"
    }
   ],
   "source": [
    "sent = \"New Delhi is the capital of India\"\n",
    "re.search(\"^New\",sent).group()"
   ]
  },
  {
   "cell_type": "markdown",
   "metadata": {},
   "source": [
    "**Question 3.** Create one python program in which you have to lowercase the sentence first and than delete digits from the following sentence.\"In India, 184 people got affected with Corona virus and 4 are died.\"\n"
   ]
  },
  {
   "cell_type": "code",
   "execution_count": 3,
   "metadata": {
    "scrolled": true
   },
   "outputs": [
    {
     "name": "stdout",
     "output_type": "stream",
     "text": [
      "in india, 184 people got affected with corona virus and 4 are died.\n"
     ]
    },
    {
     "data": {
      "text/plain": [
       "'in india,  people got affected with corona virus and  are died.'"
      ]
     },
     "execution_count": 3,
     "metadata": {},
     "output_type": "execute_result"
    }
   ],
   "source": [
    "sent1 = \"In India, 184 people got affected with Corona virus and 4 are died.\"\n",
    "sent1_lower = sent1.lower()\n",
    "print(sent1_lower)\n",
    "x = re.findall(\"\\D\",sent1_lower)\n",
    "\"\".join(x)"
   ]
  },
  {
   "cell_type": "markdown",
   "metadata": {},
   "source": [
    "# **Question 4.** Do stemming, lemmatization and tokenization from the following sentence.\n",
    "\n",
    "\"I hope that, when I have built up my savings, I will be able to travel to Hawai.\"\n"
   ]
  },
  {
   "cell_type": "code",
   "execution_count": 4,
   "metadata": {
    "scrolled": true
   },
   "outputs": [
    {
     "name": "stdout",
     "output_type": "stream",
     "text": [
      "\n",
      "Tokenization\n",
      "['i', 'hope', 'that', ',', 'when', 'i', 'have', 'built', 'up', 'my', 'savings', ',', 'i', 'will', 'be', 'able', 'to', 'travel', 'to', 'hawai', '.']\n",
      "\n",
      "CleanText\n",
      "['hope', 'built', 'savings', 'able', 'travel', 'hawai']\n",
      "\n",
      "Stemming\n",
      "hope built save abl travel hawai\n",
      "\n",
      "Lemmatization\n",
      "hope built saving able travel hawai\n"
     ]
    }
   ],
   "source": [
    "sentence = \"I hope that, when I have built up my savings, I will be able to travel to Hawai.\"\n",
    "import nltk\n",
    "#tokenization\n",
    "print(\"\\nTokenization\")\n",
    "word = nltk.word_tokenize(sentence.lower())\n",
    "print(word)\n",
    "#stopword\n",
    "\n",
    "from nltk.corpus import stopwords\n",
    "stop_words = stopwords.words('english')\n",
    "#punctuation\n",
    "import string \n",
    "punct = string.punctuation\n",
    "#cleaning of text\n",
    "print(\"\\nCleanText\")\n",
    "clean_data = ([i for i in word if  i not in stop_words and i not in punct])\n",
    "print(clean_data)\n",
    "#stemming\n",
    "print(\"\\nStemming\")\n",
    "from nltk.stem import SnowballStemmer\n",
    "snowball = SnowballStemmer(\"english\")\n",
    "print(\" \".join([snowball.stem(words) for words in clean_data]))\n",
    "\n",
    "#lemmatization\n",
    "print(\"\\nLemmatization\")\n",
    "from nltk.stem import WordNetLemmatizer \n",
    "lemma = WordNetLemmatizer()\n",
    "print(\" \".join([lemma.lemmatize(words) for words in clean_data]))\n"
   ]
  },
  {
   "cell_type": "markdown",
   "metadata": {},
   "source": [
    "\n",
    "**Question 5.** Create one python program from the following sentence.\n",
    "\n",
    "\"I love NLP, not you\"\n",
    "\n",
    "output : ['I', 'l', 'N', 'n', 'y']"
   ]
  },
  {
   "cell_type": "code",
   "execution_count": 5,
   "metadata": {},
   "outputs": [
    {
     "name": "stdout",
     "output_type": "stream",
     "text": [
      "['I', 'l', 'N', 'n', 'y']\n"
     ]
    },
    {
     "data": {
      "text/plain": [
       "[' l', ' N', ' n', ' y']"
      ]
     },
     "execution_count": 5,
     "metadata": {},
     "output_type": "execute_result"
    }
   ],
   "source": [
    "last = \"I love NLP, not you\"\n",
    "print([last.split(\" \")[i][0] for i in range(0,len(last.split(\" \")))])\n",
    "re.findall(\"\\s\\w\",last)"
   ]
  },
  {
   "cell_type": "code",
   "execution_count": null,
   "metadata": {
    "scrolled": true
   },
   "outputs": [],
   "source": []
  },
  {
   "cell_type": "code",
   "execution_count": null,
   "metadata": {},
   "outputs": [],
   "source": []
  }
 ],
 "metadata": {
  "kernelspec": {
   "display_name": "Python 3",
   "language": "python",
   "name": "python3"
  },
  "language_info": {
   "codemirror_mode": {
    "name": "ipython",
    "version": 3
   },
   "file_extension": ".py",
   "mimetype": "text/x-python",
   "name": "python",
   "nbconvert_exporter": "python",
   "pygments_lexer": "ipython3",
   "version": "3.8.5"
  }
 },
 "nbformat": 4,
 "nbformat_minor": 4
}
